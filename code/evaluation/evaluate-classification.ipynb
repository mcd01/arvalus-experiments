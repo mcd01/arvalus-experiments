{
 "cells": [
  {
   "cell_type": "code",
   "execution_count": null,
   "metadata": {},
   "outputs": [],
   "source": [
    "import os\n",
    "import numpy as np\n",
    "import pandas as pd\n",
    "\n",
    "from itertools import product\n",
    "\n",
    "import seaborn as sns\n",
    "import matplotlib\n",
    "from matplotlib import pyplot as plt"
   ]
  },
  {
   "cell_type": "code",
   "execution_count": null,
   "metadata": {},
   "outputs": [],
   "source": [
    "matplotlib.rcParams.update({\n",
    "    'font.size': 18,\n",
    "    'legend.fontsize': 18,\n",
    "    'legend.handlelength': 2\n",
    "})"
   ]
  },
  {
   "cell_type": "code",
   "execution_count": null,
   "metadata": {},
   "outputs": [],
   "source": [
    "folds = [1, 2, 3, 4, 5]\n",
    "\n",
    "model_types = []\n",
    "\n",
    "name_mapper = {\"CNN\": \"Arvalus\", \"GCN\": \"D-Arvalus\"}\n",
    "anomaly_mapper = {\"0\": \"Normal\", \"2\": \"Anomaly 1\", \"5\": \"Anomaly 2\", \"6\": \"Anomaly 3\", \"8\": \"Anomaly 4\"}"
   ]
  },
  {
   "cell_type": "code",
   "execution_count": null,
   "metadata": {},
   "outputs": [],
   "source": [
    "path = \"../../results/calculated_scores.csv\"\n",
    "\n",
    "df_list = []\n",
    "\n",
    "if os.path.exists(path):\n",
    "    temp_df = pd.read_csv(path)\n",
    "    df_list.append(temp_df)\n",
    "    model_types.append(f\"CNN\")\n",
    "    model_types.append(f\"GCN\")\n",
    "\n",
    "df = pd.concat(df_list, axis = 0, ignore_index = True)\n",
    "\n",
    "fig = None"
   ]
  },
  {
   "cell_type": "code",
   "execution_count": null,
   "metadata": {},
   "outputs": [],
   "source": [
    "best_df = pd.DataFrame()\n",
    "\n",
    "for fold, model_type in product(folds, model_types):\n",
    "    df_ = df.loc[(df['fold'] == fold) & (df['model_type'] == model_type)]\n",
    "    max_idx = df_[\"bc_f1_avg\"].idxmax(axis=0) \n",
    "        \n",
    "    best_df = best_df.append(df.loc[max_idx], ignore_index=True)\n",
    "print(len(best_df))"
   ]
  },
  {
   "cell_type": "code",
   "execution_count": null,
   "metadata": {},
   "outputs": [],
   "source": [
    "renamed_scores = {\"mc_acc\": \"Accuracy\", \"mc_f1_avg\": \"F1\", \"mc_prec_avg\": \"Precision\", \"mc_rec_avg\": \"Recall\"}\n",
    "scores_to_plot = [\"Accuracy\", \"F1\", \"Precision\", \"Recall\"]\n",
    "\n",
    "aggr = {s: [\"mean\"] for s in scores_to_plot}"
   ]
  },
  {
   "cell_type": "code",
   "execution_count": null,
   "metadata": {},
   "outputs": [],
   "source": [
    "palette = [\"#6ACC64\", \"#D65F5F\", \"#956CB4\",\n",
    "           \"#8C613C\", \"#DC7EC0\", \"#797979\", \"#D5BB67\", \"#82C6E2\"]\n",
    "\n",
    "cols_to_drop = [\n",
    "    \"mc_acc\", \n",
    "    \"mc_acc_balanced\",\n",
    "    \"mc_f1_avg\", \n",
    "    \"mc_f1_wavg\", \n",
    "    \"mc_prec_avg\", \n",
    "    \"mc_prec_wavg\", \n",
    "    \"mc_rec_avg\", \n",
    "    \"mc_rec_wavg\", \n",
    "    \"bc_acc\", \n",
    "    \"bc_acc_balanced\",\n",
    "    \"bc_f1_avg\", \n",
    "    \"bc_f1_wavg\", \n",
    "    \"bc_prec_avg\", \n",
    "    \"bc_prec_wavg\", \n",
    "    \"bc_rec_avg\", \n",
    "    \"bc_rec_wavg\", \n",
    "    \"epoch\"]\n",
    "\n",
    "cols_to_drop = list(set(cols_to_drop + [col for col in list(best_df.columns) if \"bc_\" in col]))\n",
    "\n",
    "rename_map = {\"f1\": \"F1\", \"prec\": \"Precision\", \"rec\": \"Recall\"}\n",
    "\n",
    "fig, (ax1, ax2) = plt.subplots(1, 2, sharey=True, figsize=(12,3))\n",
    "\n",
    "for idx, model_type in enumerate(sorted(model_types, reverse=False)):\n",
    "    df_plot = best_df.loc[(best_df[\"model_type\"] == model_type)]\n",
    "    df_plot[\"model_type\"] = df_plot[\"model_type\"].apply(lambda val: name_mapper[val])\n",
    "    df_plot = df_plot.drop(cols_to_drop, axis=1)\n",
    "    df_plot = df_plot.groupby([\"model_type\", \"fold\"]).mean()\n",
    "    df_plot = df_plot.stack()\n",
    "    df_plot = df_plot.reset_index(level=1).reset_index()\n",
    "    df_plot = df_plot.drop([\"fold\"], axis=1)\n",
    "    df_plot.columns = [\"Model\", \"score_type_anomaly\", \"score\"]\n",
    "    df_plot[\"score_type\"] = df_plot[\"score_type_anomaly\"].apply(lambda x: rename_map[x.split(\"_\")[1]])\n",
    "    df_plot[\"anomaly\"] = df_plot[\"score_type_anomaly\"].apply(lambda x: x.split(\"_\")[-1])\n",
    "    df_plot[\"anomaly\"] = df_plot[\"anomaly\"].apply(lambda val: anomaly_mapper[val])\n",
    "    \n",
    "    print(df_plot.groupby([\"Model\", \"anomaly\", \"score_type\"]).mean())\n",
    "       \n",
    "    sns.barplot(x=\"score_type\", y=\"score\", hue=\"anomaly\", data=df_plot, ax=ax1 if idx == 0 else ax2, capsize=.075, ci=\"sd\", palette=palette)\n",
    "    if idx == 0:\n",
    "        ax1.set_title(\"\" + name_mapper[f\"{model_type}\"])\n",
    "        ax1.get_legend().remove()\n",
    "        ax1.set_xlabel(\"\")\n",
    "        ax1.set_ylabel(\"\")\n",
    "    else:\n",
    "        ax2.set_title(\"\" + name_mapper[f\"{model_type}\"])\n",
    "        ax2.get_legend().remove()\n",
    "        ax2.set_xlabel(\"\")\n",
    "        ax2.set_ylabel(\"\")\n",
    "        \n",
    "plt.xlabel(\"\")\n",
    "plt.ylabel(\"\")\n",
    "plt.ylim(0, 1.05)\n",
    "plt.legend(loc='upper center', ncol=3, fancybox=True, shadow=True, bbox_to_anchor=(-0.115, 1.42))\n",
    "fig.savefig(\"../../results/plots/classification/overall_results_classes.pdf\", bbox_inches='tight')"
   ]
  }
 ],
 "metadata": {
  "kernelspec": {
   "display_name": "Python 3",
   "language": "python",
   "name": "python3"
  },
  "language_info": {
   "codemirror_mode": {
    "name": "ipython",
    "version": 3
   },
   "file_extension": ".py",
   "mimetype": "text/x-python",
   "name": "python",
   "nbconvert_exporter": "python",
   "pygments_lexer": "ipython3",
   "version": "3.8.5"
  }
 },
 "nbformat": 4,
 "nbformat_minor": 4
}
