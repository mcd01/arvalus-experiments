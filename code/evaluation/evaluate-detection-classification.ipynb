{
 "cells": [
  {
   "cell_type": "code",
   "execution_count": null,
   "metadata": {},
   "outputs": [],
   "source": [
    "import os\n",
    "import numpy as np\n",
    "import pandas as pd\n",
    "\n",
    "from itertools import product\n",
    "\n",
    "import seaborn as sns\n",
    "import matplotlib\n",
    "from matplotlib import pyplot as plt\n",
    "import copy"
   ]
  },
  {
   "cell_type": "code",
   "execution_count": null,
   "metadata": {},
   "outputs": [],
   "source": [
    "matplotlib.rcParams.update({\n",
    "    'font.size': 18,\n",
    "    'legend.fontsize': 18,\n",
    "    'legend.handlelength': 2\n",
    "})"
   ]
  },
  {
   "cell_type": "code",
   "execution_count": null,
   "metadata": {},
   "outputs": [],
   "source": [
    "folds = [1, 2, 3, 4, 5]\n",
    "\n",
    "experiment = \"comp\"\n",
    "model_types = []\n",
    "\n",
    "name_mapper = {\"CNN\": \"Arvalus\", \"GCN\": \"D-Arvalus\"}\n",
    "anomaly_mapper = {\"0\": \"Normal\", \"2\": \"Anomaly 1\", \"5\": \"Anomaly 2\", \"6\": \"Anomaly 3\", \"8\": \"Anomaly 4\"}"
   ]
  },
  {
   "cell_type": "code",
   "execution_count": null,
   "metadata": {},
   "outputs": [],
   "source": [
    "path = \"../../results/calculated_scores.csv\"\n",
    "\n",
    "df_list = []\n",
    "\n",
    "if os.path.exists(path):\n",
    "    temp_df = pd.read_csv(path)\n",
    "    df_list.append(temp_df)\n",
    "    model_types.append(\"CNN\")\n",
    "    model_types.append(\"GCN\")\n",
    "\n",
    "df = pd.concat(df_list, axis = 0, ignore_index = True)\n",
    "\n",
    "fig = None"
   ]
  },
  {
   "cell_type": "code",
   "execution_count": null,
   "metadata": {},
   "outputs": [],
   "source": [
    "best_df = pd.DataFrame()\n",
    "\n",
    "for fold, model_type in product(folds, model_types):\n",
    "    df_ = df.loc[(df['fold'] == fold) & (df['model_type'] == model_type)]\n",
    "    max_idx = df_[\"bc_f1_avg\"].idxmax(axis=0) \n",
    "        \n",
    "    best_df = best_df.append(df.loc[max_idx], ignore_index=True)\n",
    "print(len(best_df))"
   ]
  },
  {
   "cell_type": "code",
   "execution_count": null,
   "metadata": {},
   "outputs": [],
   "source": [
    "palette = \"muted\"\n",
    "\n",
    "scores_to_plot = [\"Accuracy\", \"F1\", \"Precision\", \"Recall\"]\n",
    "aggr = {s: [\"mean\"] for s in scores_to_plot}\n",
    "    \n",
    "fig, (ax1, ax2) = plt.subplots(1, 2, sharey=True, figsize=(12,3))\n",
    "\n",
    "renamed_scores = {\"bc_acc\": \"Accuracy\", \"bc_f1_avg\": \"F1\", \"bc_prec_avg\": \"Precision\", \"bc_rec_avg\": \"Recall\"}\n",
    "cols_to_keep = [\n",
    "    \"bc_acc\",\n",
    "    \"bc_f1_avg\",\n",
    "    \"bc_prec_avg\",\n",
    "    \"bc_rec_avg\",\n",
    "    \"model_type\",\n",
    "    \"fold\"\n",
    "]\n",
    "\n",
    "df_plot = copy.deepcopy(best_df)\n",
    "df_plot[\"model_type\"] = df_plot[\"model_type\"].apply(lambda val: name_mapper[val])\n",
    "df_plot = df_plot.loc[:, cols_to_keep]\n",
    "df_plot = df_plot.rename(columns=renamed_scores)\n",
    "df_plot = df_plot.groupby([\"model_type\", \"fold\"]).agg(aggr)\n",
    "df_plot.columns = df_plot.columns.droplevel(1)\n",
    "df_plot = df_plot.stack()\n",
    "df_plot = df_plot.reset_index(level=1).reset_index()\n",
    "df_plot = df_plot.drop([\"fold\"], axis=1)\n",
    "\n",
    "df_plot.columns = [\"Model\", \"score_type\", \"score\"]\n",
    "\n",
    "print(df_plot.groupby([\"Model\", \"score_type\"]).mean())\n",
    "\n",
    "sns.barplot(x=\"score_type\", y=\"score\", hue=\"Model\", data=df_plot, ax=ax1, capsize=.15, ci=\"sd\", palette=palette)\n",
    "ax1.set_title(\"Anomaly Detection\")\n",
    "ax1.get_legend().remove()\n",
    "ax1.set_xlabel(\"\")\n",
    "ax1.set_ylabel(\"\")\n",
    "\n",
    "renamed_scores = {\"mc_acc\": \"Accuracy\", \"mc_f1_avg\": \"F1\", \"mc_prec_avg\": \"Precision\", \"mc_rec_avg\": \"Recall\"}\n",
    "cols_to_keep = [\n",
    "    \"mc_acc\",\n",
    "    \"mc_f1_avg\",\n",
    "    \"mc_prec_avg\",\n",
    "    \"mc_rec_avg\",\n",
    "    \"model_type\",\n",
    "    \"fold\"\n",
    "]\n",
    "\n",
    "df_plot = copy.deepcopy(best_df)\n",
    "df_plot[\"model_type\"] = df_plot[\"model_type\"].apply(lambda val: name_mapper[val])\n",
    "df_plot = df_plot.loc[:, cols_to_keep]\n",
    "df_plot = df_plot.rename(columns=renamed_scores)\n",
    "df_plot = df_plot.groupby([\"model_type\", \"fold\"]).agg(aggr)\n",
    "df_plot.columns = df_plot.columns.droplevel(1)\n",
    "df_plot = df_plot.stack()\n",
    "df_plot = df_plot.reset_index(level=1).reset_index()\n",
    "df_plot = df_plot.drop([\"fold\"], axis=1)\n",
    "df_plot.columns = [\"Model\", \"score_type\", \"score\"]\n",
    "\n",
    "print(df_plot.groupby([\"Model\", \"score_type\"]).mean())\n",
    "\n",
    "sns.barplot(x=\"score_type\", y=\"score\", hue=\"Model\", data=df_plot, ax=ax2, capsize=.15, ci=\"sd\", palette=palette)\n",
    "ax2.set_title(\"Anomaly Type Detection\")\n",
    "ax2.get_legend().remove()\n",
    "ax2.set_xlabel(\"\")\n",
    "ax2.set_ylabel(\"\")    \n",
    "\n",
    "\n",
    "plt.xlabel(\"\")\n",
    "plt.ylabel(\"\")\n",
    "plt.ylim(0, 1.05)\n",
    "plt.legend(loc='upper center', ncol=2, fancybox=True, shadow=True, bbox_to_anchor=(-0.115, 1.42))\n",
    "fig.savefig(\"../../results/plots/overall_results_detection-classification.pdf\", bbox_inches='tight')"
   ]
  }
 ],
 "metadata": {
  "kernelspec": {
   "display_name": "Python 3",
   "language": "python",
   "name": "python3"
  },
  "language_info": {
   "codemirror_mode": {
    "name": "ipython",
    "version": 3
   },
   "file_extension": ".py",
   "mimetype": "text/x-python",
   "name": "python",
   "nbconvert_exporter": "python",
   "pygments_lexer": "ipython3",
   "version": "3.8.5"
  }
 },
 "nbformat": 4,
 "nbformat_minor": 4
}
